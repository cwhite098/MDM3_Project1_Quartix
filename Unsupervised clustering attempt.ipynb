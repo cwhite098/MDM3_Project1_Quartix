{
 "cells": [
  {
   "cell_type": "code",
   "execution_count": 2,
   "id": "a0940765",
   "metadata": {},
   "outputs": [
    {
     "name": "stdout",
     "output_type": "stream",
     "text": [
      "cat_data loaded\n",
      "uncat_data loaded\n",
      "unlinked_data loaded\n"
     ]
    }
   ],
   "source": [
    "# From Chris' visualise code\n",
    "\n",
    "from extract_data import *\n",
    "\n",
    "# Load the data from here using pickle (much faster)\n",
    "\n",
    "cat_data = load_list('pickle_data', 'cat_data')\n",
    "print('cat_data loaded')\n",
    "uncat_data = load_list('pickle_data', 'uncat_data')\n",
    "print('uncat_data loaded')\n",
    "unlinked_data = load_list('pickle_data', 'unlinked_data')\n",
    "print('unlinked_data loaded')"
   ]
  },
  {
   "cell_type": "code",
   "execution_count": 15,
   "id": "98a594a7",
   "metadata": {},
   "outputs": [
    {
     "name": "stdout",
     "output_type": "stream",
     "text": [
      "[1 1 1 1 1 1 1 0 1 0 1 1 0 1 1 1 0 1 0 1 1 1 0 1 1 1 1 0 1 0 1 0 1 0 1 1 1\n",
      " 1 0 1 1 0 0 0 1 0 1 1 1 0 1 1 0 0 0 1 1 0 0 0 0 1 1 0 1 0 1 1 1 1 1 1 1 1\n",
      " 1 0 0 0 0 0 1 1 0 0 0 0 1 1 0 1 1 1 1 1 1]\n",
      "Accuracy: 0.47368421052631576\n",
      "[[32 47]\n",
      " [ 3 13]]\n"
     ]
    },
    {
     "name": "stderr",
     "output_type": "stream",
     "text": [
      "c:\\users\\finnm\\appdata\\local\\programs\\python\\python37\\lib\\site-packages\\tslearn\\utils\\utils.py:89: UserWarning: 2-Dimensional data passed. Assuming these are 95 1-dimensional timeseries\n",
      "  '{} 1-dimensional timeseries'.format(X.shape[0]))\n"
     ]
    }
   ],
   "source": [
    "from tslearn.clustering import TimeSeriesKMeans, KernelKMeans, KShape\n",
    "from sklearn.model_selection import train_test_split\n",
    "from sklearn.metrics import confusion_matrix, accuracy_score\n",
    "from sklearn.preprocessing import StandardScaler\n",
    "from math import sqrt\n",
    "\n",
    "def prep_for_cluster_2(X, test, tilt, norm=False, stan=False):\n",
    "    \n",
    "    ##### X_TRAIN\n",
    "    X_train = np.empty([72,len(X)])\n",
    "    for i in range(len(X)):\n",
    "        X_train[:,i] = X[i][1][tilt]\n",
    "    \n",
    "    X_train = np.transpose(X_train)\n",
    "    \n",
    "    # normalise the data\n",
    "    if norm==True:\n",
    "        for i in range(len(X_train)):\n",
    "            X_train[i] = (X_train[i]-X_train[i].min())/(X_train[i].max()-X_train[i].min())\n",
    "        \n",
    "    # standardise the data\n",
    "    if stan==True:\n",
    "        scaler = StandardScaler()\n",
    "        scaler = scaler.fit(X_train)\n",
    "        X_train = scaler.transform(X_train)\n",
    "    \n",
    "    ##### X_TEST\n",
    "    X_test = np.empty([72,len(test)])\n",
    "    for i in range(len(test)):\n",
    "        X_test[:,i] = test[i][1][tilt]\n",
    "    \n",
    "    X_test = np.transpose(X_test)\n",
    "    \n",
    "    # normalise the data\n",
    "    if norm==True:\n",
    "        for i in range(len(X_test)):\n",
    "            X_test[i] = (X_test[i]-X_test[i].min())/(X_test[i].max()-X_test[i].min())\n",
    "        \n",
    "    # standardise the data\n",
    "    if stan==True:\n",
    "        scaler = StandardScaler()\n",
    "        scaler = scaler.fit(X_test)\n",
    "        X_test = scaler.transform(X_test)\n",
    "    \n",
    "    ##### Y_TEST\n",
    "    \n",
    "    y_test = []\n",
    "    for i in range(len(test)):\n",
    "        incident = cat_data[i]\n",
    "        if 'Correct' in incident[3]:\n",
    "            y_test.append(1)\n",
    "        else:\n",
    "            y_test.append(0)\n",
    "       \n",
    "    return X_train, X_test, y_test\n",
    "    \n",
    "X_train, X_test, y_test = prep_for_cluster_2(unlinked_data, cat_data, 'tiltx', norm=False, stan=False)\n",
    "\n",
    "km = TimeSeriesKMeans(n_clusters=2, max_iter=10, metric=\"dtw\", random_state=0).fit(X_train)\n",
    "predictions = km.predict(X_test)\n",
    "acc = accuracy_score(y_test, predictions)\n",
    "\n",
    "print(predictions)\n",
    "print(\"Accuracy:\", acc)\n",
    "print(confusion_matrix(y_test, predictions))"
   ]
  }
 ],
 "metadata": {
  "kernelspec": {
   "display_name": "Python 3 (ipykernel)",
   "language": "python",
   "name": "python3"
  },
  "language_info": {
   "codemirror_mode": {
    "name": "ipython",
    "version": 3
   },
   "file_extension": ".py",
   "mimetype": "text/x-python",
   "name": "python",
   "nbconvert_exporter": "python",
   "pygments_lexer": "ipython3",
   "version": "3.7.4"
  }
 },
 "nbformat": 4,
 "nbformat_minor": 5
}
